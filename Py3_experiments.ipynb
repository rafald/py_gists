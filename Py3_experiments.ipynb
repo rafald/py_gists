{
 "cells": [
  {
   "cell_type": "code",
   "execution_count": 1,
   "metadata": {
    "collapsed": false
   },
   "outputs": [
    {
     "name": "stdout",
     "output_type": "stream",
     "text": [
      "<module 'os' from '/home/raf12/bin/A3/lib/python3.5/os.py'>\n",
      "posix\n"
     ]
    }
   ],
   "source": [
    "import os\n",
    "print (os)\n",
    "print (os.name)"
   ]
  },
  {
   "cell_type": "code",
   "execution_count": 17,
   "metadata": {
    "collapsed": false
   },
   "outputs": [
    {
     "name": "stdout",
     "output_type": "stream",
     "text": [
      "3.5.2 (default, Sep 10 2016, 08:21:44) \n",
      "[GCC 5.4.0 20160609]\n",
      "<module 'sys' (built-in)>\n"
     ]
    }
   ],
   "source": [
    "import sys\n",
    "print (sys.version)\n",
    "print (sys)"
   ]
  },
  {
   "cell_type": "markdown",
   "metadata": {},
   "source": [
    "---\n",
    "http://www.enlistq.com/10-python-idioms-to-help-you-improve-your-code/\n",
    "\n",
    "\n",
    "Idiom #1\n",
    "Use tuples to swap values! In python, you do not need to create temp value when swapping variable values. They can be done in one line by using tuples."
   ]
  },
  {
   "cell_type": "code",
   "execution_count": 25,
   "metadata": {
    "collapsed": false
   },
   "outputs": [
    {
     "name": "stdout",
     "output_type": "stream",
     "text": [
      "new old\n"
     ]
    }
   ],
   "source": [
    "#bad\n",
    "temp = old\n",
    "old = new\n",
    "new = temp\n",
    "# good\n",
    "old = \"old\"\n",
    "new = \"new\"\n",
    "old, new = new, old\n",
    "print( old, new)"
   ]
  },
  {
   "cell_type": "code",
   "execution_count": 3,
   "metadata": {
    "collapsed": false
   },
   "outputs": [
    {
     "name": "stdout",
     "output_type": "stream",
     "text": [
      "0\n",
      "texas\n",
      "1\n",
      "california\n",
      "2\n",
      "ohio\n",
      "3\n",
      "florida\n"
     ]
    }
   ],
   "source": [
    "# use enumerate() when need to use index \n",
    "states = [\"texas\", \"california\", \"ohio\", \"florida\"]\n",
    "for index, state in enumerate(states):\n",
    "    print(index)\n",
    "    print(state)"
   ]
  },
  {
   "cell_type": "markdown",
   "metadata": {},
   "source": [
    "\n",
    "Idiom #4\n",
    "\n",
    "Use 'zip' to loop over two lists.\n"
   ]
  },
  {
   "cell_type": "code",
   "execution_count": 9,
   "metadata": {
    "collapsed": false
   },
   "outputs": [
    {
     "name": "stdout",
     "output_type": "stream",
     "text": [
      "hot in texas\n",
      "medium in california\n",
      "no_idea in ohio\n",
      "hot in florida\n"
     ]
    }
   ],
   "source": [
    "states = [\"texas\", \"california\", \"ohio\", \"florida\"]\n",
    "weather = [\"hot\", \"medium\", \"no_idea\", \"hot\", \"o jeden za duzo zatrzymuje iteracje\"]\n",
    "for weather, state in zip(weather, states):\n",
    "    print(weather + ' in ' + state)"
   ]
  },
  {
   "cell_type": "markdown",
   "metadata": {},
   "source": [
    "Use 'izip' for long lists. 'zip' constructs the new combined list before entering the loop. For long lists, this new list can consume a lot of memory. Instead, use 'izip' which constructs the new list on-the-go."
   ]
  },
  {
   "cell_type": "code",
   "execution_count": 11,
   "metadata": {
    "collapsed": false
   },
   "outputs": [
    {
     "name": "stdout",
     "output_type": "stream",
     "text": [
      "hot in texas\n",
      "medium in california\n",
      "no_idea in ohio\n",
      "hot in florida\n"
     ]
    }
   ],
   "source": [
    "# Python 3\n",
    "izip = zip\n",
    "states = [\"texas\", \"california\", \"ohio\", \"florida\"]\n",
    "weather = [\"hot\", \"medium\", \"no_idea\", \"hot\"]\n",
    "for weather, state in izip(weather, states):\n",
    "    print(weather + ' in ' + state)"
   ]
  },
  {
   "cell_type": "markdown",
   "metadata": {},
   "source": [
    "Idiom #6\n",
    "Use 'join' to join strings together. Strings have a built-in function called 'join' that can be used to concatenate them."
   ]
  },
  {
   "cell_type": "code",
   "execution_count": 14,
   "metadata": {
    "collapsed": false
   },
   "outputs": [
    {
     "name": "stdout",
     "output_type": "stream",
     "text": [
      "my name is\n"
     ]
    }
   ],
   "source": [
    "sample = ['my', 'name', 'is']\n",
    "\n",
    "\"\"\"\n",
    "#bad\n",
    "sample[0] + ' ' + sample[1] + ' ' + sample[2]\n",
    "\"\"\"\n",
    "\n",
    "# good\n",
    "print( ' '.join(sample) )"
   ]
  },
  {
   "cell_type": "markdown",
   "metadata": {},
   "source": [
    "Idiom #7\n",
    "0 is False and everything else is True. Any string, list, array or dict with length > 0 is True. This applies to many other languages as well."
   ]
  },
  {
   "cell_type": "code",
   "execution_count": 16,
   "metadata": {
    "collapsed": false
   },
   "outputs": [
    {
     "name": "stdout",
     "output_type": "stream",
     "text": [
      "hi\n",
      "hi\n",
      "nothing\n"
     ]
    }
   ],
   "source": [
    "sample = ['mom', 'dad']\n",
    "stri = \"hi\"\n",
    "count = 0\n",
    "\"\"\"\n",
    "# Bad\n",
    "if len(sample)>1:\n",
    "    print('hi')\n",
    "if len(stri)>1:\n",
    "    print('hello')\n",
    "if count == 0:\n",
    "    print('nothing')\n",
    "\n",
    "\"\"\"\n",
    "# good\n",
    "if sample:\n",
    "    print('hi')\n",
    "if stri:\n",
    "    print('hi')\n",
    "if not count:\n",
    "    print('nothing')"
   ]
  },
  {
   "cell_type": "markdown",
   "metadata": {},
   "source": [
    "Idiom #8\n",
    "Use 'format' for string formatting. It's easier to read and less prone to error."
   ]
  },
  {
   "cell_type": "code",
   "execution_count": 45,
   "metadata": {
    "collapsed": false
   },
   "outputs": [
    {
     "name": "stdout",
     "output_type": "stream",
     "text": [
      "Keanu played Neo in Matrix.\n"
     ]
    }
   ],
   "source": [
    "character = 'Neo'\n",
    "movie = 'Matrix'\n",
    "actor = 'Keanu'\n",
    "\"\"\"\n",
    "#bad\n",
    "print('%s played %s in %s.' % (actor, character, movie))\n",
    "\"\"\"\n",
    "# good\n",
    "print('{aktorzyna} played {character} in {filmik}.'.format(aktorzyna=actor,\n",
    "                                                    character=character,\n",
    "                                                    filmik=movie))"
   ]
  },
  {
   "cell_type": "markdown",
   "metadata": {},
   "source": [
    "Idiom #9\n",
    "Use list comprehensions to generate a list. Most of the times, they are easier to read and require fewer words."
   ]
  },
  {
   "cell_type": "code",
   "execution_count": 27,
   "metadata": {
    "collapsed": false
   },
   "outputs": [
    {
     "ename": "SyntaxError",
     "evalue": "Missing parentheses in call to 'print' (<ipython-input-27-4560c53f5af3>, line 11)",
     "output_type": "error",
     "traceback": [
      "\u001b[0;36m  File \u001b[0;32m\"<ipython-input-27-4560c53f5af3>\"\u001b[0;36m, line \u001b[0;32m11\u001b[0m\n\u001b[0;31m    print new\u001b[0m\n\u001b[0m            ^\u001b[0m\n\u001b[0;31mSyntaxError\u001b[0m\u001b[0;31m:\u001b[0m Missing parentheses in call to 'print'\n"
     ]
    }
   ],
   "source": [
    "states = [\"texas\", \"california\", \"ohio\", \"florida\"]\n",
    "\"\"\"\n",
    "# bad\n",
    "new = []\n",
    "for state in states:\n",
    "    if 'a' in state:\n",
    "        new.append(state)\n",
    "\"\"\"\n",
    "# good\n",
    "new = [state for state in states if 'a' in state]\n",
    "print new"
   ]
  },
  {
   "cell_type": "markdown",
   "metadata": {},
   "source": [
    "Idiom #10\n",
    "Generators are a powerful concept in python. Instead of having a function which returns a huge list at once, use generators to return one value at a time as it's called. Creating a generator is easy, just use 'yield' instead of 'return'. A key thing to remember is that a generator returns a generator object which is an iterrator."
   ]
  },
  {
   "cell_type": "code",
   "execution_count": 34,
   "metadata": {
    "collapsed": false
   },
   "outputs": [
    {
     "name": "stdout",
     "output_type": "stream",
     "text": [
      "<generator object get_range at 0x7fb7c0453360>\n"
     ]
    }
   ],
   "source": [
    "# Function for getting a list of numbers\n",
    "# This function will return a generator\n",
    "import datetime as dt\n",
    "def get_range(num):\n",
    "    for n in range(0,num):\n",
    "        yield n\n",
    "print(get_range(5))"
   ]
  },
  {
   "cell_type": "code",
   "execution_count": 39,
   "metadata": {
    "collapsed": false
   },
   "outputs": [
    {
     "name": "stdout",
     "output_type": "stream",
     "text": [
      "0\n",
      "1\n",
      "2\n",
      "3\n",
      "4\n",
      "[0, 1, 2, 3, 4]\n"
     ]
    }
   ],
   "source": [
    "# call the generator object so we can iterate over it\n",
    "for num in get_range(5):\n",
    "    print(num)"
   ]
  },
  {
   "cell_type": "code",
   "execution_count": 43,
   "metadata": {
    "collapsed": false
   },
   "outputs": [
    {
     "name": "stdout",
     "output_type": "stream",
     "text": [
      "[0, 1, 2, 3, 4]\n"
     ]
    }
   ],
   "source": [
    "print ( [el for el in get_range(5) ] )"
   ]
  },
  {
   "cell_type": "code",
   "execution_count": 13,
   "metadata": {
    "collapsed": false
   },
   "outputs": [
    {
     "name": "stdout",
     "output_type": "stream",
     "text": [
      "0 1\n",
      "0 4\n",
      "0 7\n"
     ]
    }
   ],
   "source": [
    "# http://www.geeksforgeeks.org/saddle-point-matrix/\n",
    "Mat = [ [1, 2, 3], [4, 5, 6], [7, 8, 9]]\n",
    "#Output: 7\n",
    "#7 is minimum in its row and maximum in its column.\n",
    "\n",
    "for row in Mat:\n",
    "    min = 999\n",
    "    idx = -1\n",
    "    for index, el in enumerate(row):\n",
    "        if el < min:\n",
    "            idx = index\n",
    "            min = el\n",
    "    print (idx, min)\n"
   ]
  }
 ],
 "metadata": {
  "anaconda-cloud": {},
  "kernelspec": {
   "display_name": "Python 3",
   "language": "python",
   "name": "python3"
  },
  "language_info": {
   "codemirror_mode": {
    "name": "ipython",
    "version": 3
   },
   "file_extension": ".py",
   "mimetype": "text/x-python",
   "name": "python",
   "nbconvert_exporter": "python",
   "pygments_lexer": "ipython3",
   "version": "3.5.2"
  }
 },
 "nbformat": 4,
 "nbformat_minor": 1
}
